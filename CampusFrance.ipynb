{
 "cells": [
  {
   "cell_type": "code",
   "execution_count": 9,
   "metadata": {
    "collapsed": true
   },
   "outputs": [],
   "source": [
    "# for L2 v1\n",
    "#filenamecsv=\"L2.csv\"\n",
    "#filenamepdf=\"fiches.pdf\"\n",
    "\n",
    "# for L3 v1\n",
    "filenamecsv=\"L3v1.csv\"\n",
    "filenamepdf=\"fichesL3.pdf\"\n",
    "\n",
    "\n",
    "\n",
    "fd=open(filenamecsv,\"r\")"
   ]
  },
  {
   "cell_type": "code",
   "execution_count": 10,
   "metadata": {
    "collapsed": false
   },
   "outputs": [],
   "source": [
    "entete=\"\"\"\n",
    "\\\\documentclass[a4paper]{article}\n",
    "\\\\usepackage[top=0mm,bottom=0mm,left=0mm,right=0mm]{geometry}\n",
    "\\\\usepackage{graphicx}\n",
    "\\\\usepackage{color}\n",
    "\\\\renewcommand{\\\\familydefault}{\\\\sfdefault}\n",
    "\\\\usepackage[utf8]{inputenc}\n",
    "\n",
    "\\\\newcommand{\\\\fav}{\\put(80,185){\\\\textcolor{black}{$\\\\surd$}}}\n",
    "\\\\newcommand{\\\\defav}{\\put(185,185){\\\\textcolor{black}{$\\\\surd$}}}\n",
    "\\\\newcommand{\\\\id}[1]{\\put(5,290){\\\\textcolor{blue}{\\\\texttt{#1}}}}\n",
    "\\\\newcommand{\\\\motifI}{\\put(15,143){\\\\textcolor{black}{$\\\\surd$}}}\n",
    "\\\\newcommand{\\\\motifII}{\\put(15,135){\\\\textcolor{black}{$\\\\surd$}}}\n",
    "\\\\newcommand{\\\\motifIII}{\\put(15,127){\\\\textcolor{black}{$\\\\surd$}}}\n",
    "\\\\newcommand{\\\\compl}[1]{\\put(15,119){\\\\textcolor{black}{#1}}}\n",
    "\\\\parindent=0pt\n",
    "\\\\begin{document}\n",
    "\\\\setlength{\\\\unitlength}{1mm}\\n\\\\thicklines\n",
    "\"\"\"\n",
    "\n",
    "def fiche(id,numpage,avis,motif,compl):\n",
    "    texte=\"\\\\begin{picture}(210,297)\"\n",
    "    texte=texte+\"\\\\put(0,0){\\\\includegraphics[page=\"+str(numpage)+\"]{\"+filenamepdf+\"}}\"\n",
    "    texte=texte+\"\\\\put(125,40){\\\\includegraphics{signature.png}}\"\n",
    "    texte=texte+\"\\\\put(25,45){\\\\textcolor{black}{07/06/2017}}\"\n",
    "    texte=texte+\"\\\\put(105,54){\\\\textcolor{black}{J\\\\'er\\\\'emie Bourdon}}\"\n",
    "    texte=texte+\"\\\\id{\"+id+\"}\\n\"\n",
    "\n",
    "    if (avis == \"Favorable\"):\n",
    "        texte=texte+\"\\\\fav{}\"\n",
    "    else:\n",
    "        texte=texte+\"\\\\defav{}\"\n",
    "    if (motif == \"Niveau académique insuffisant\"):\n",
    "        texte=texte+\"\\\\motifI{}\\n\"\n",
    "    elif (motif == \"Autres\"):\n",
    "        texte=texte+\"\\\\motifIII{}\\n\"\n",
    "        texte=texte+\"\\\\compl{\"+compl+\"}\\n\"        \n",
    "    else:\n",
    "        texte=texte+\"\\\\motifII{}\\n\"\n",
    "    texte=texte+\"\\\\end{picture}\\n\\\\newpage\\n\"\n",
    "    return texte\n",
    "\n",
    "\n",
    "pied=\"\\\\end{document}\""
   ]
  },
  {
   "cell_type": "code",
   "execution_count": 11,
   "metadata": {
    "collapsed": false
   },
   "outputs": [
    {
     "data": {
      "text/plain": [
       "'ID,Avis,Motif,CL1 = Précisions si autres,CL2 réorientation motifs,CL3 réorientation filière,Miage ?,\\n'"
      ]
     },
     "execution_count": 11,
     "metadata": {},
     "output_type": "execute_result"
    }
   ],
   "source": [
    "fd.readline()\n",
    "fd.readline()\n"
   ]
  },
  {
   "cell_type": "code",
   "execution_count": 12,
   "metadata": {
    "collapsed": false
   },
   "outputs": [],
   "source": [
    "\n",
    "fout = open(\"toutesfiches.tex\",\"w\")\n",
    "fout.write(entete)\n",
    "i=1\n",
    "for line in fd:\n",
    "    t=line.replace(\"\\n\",\"\").split(\",\")\n",
    "    id=t[0]\n",
    "    avis=t[1]\n",
    "    motif=t[2]\n",
    "    complement=t[3]\n",
    "    fout.write(fiche(id,i,avis,motif,complement))\n",
    "    i=i+1\n",
    "    \n",
    "fd.close()\n",
    "fout.write(pied)\n",
    "fout.close()"
   ]
  },
  {
   "cell_type": "code",
   "execution_count": null,
   "metadata": {
    "collapsed": true
   },
   "outputs": [],
   "source": []
  },
  {
   "cell_type": "code",
   "execution_count": null,
   "metadata": {
    "collapsed": true
   },
   "outputs": [],
   "source": []
  },
  {
   "cell_type": "code",
   "execution_count": null,
   "metadata": {
    "collapsed": true
   },
   "outputs": [],
   "source": []
  }
 ],
 "metadata": {
  "anaconda-cloud": {},
  "kernelspec": {
   "display_name": "Python 3",
   "language": "python",
   "name": "python3"
  },
  "language_info": {
   "codemirror_mode": {
    "name": "ipython",
    "version": 3
   },
   "file_extension": ".py",
   "mimetype": "text/x-python",
   "name": "python",
   "nbconvert_exporter": "python",
   "pygments_lexer": "ipython3",
   "version": "3.5.2"
  }
 },
 "nbformat": 4,
 "nbformat_minor": 1
}
